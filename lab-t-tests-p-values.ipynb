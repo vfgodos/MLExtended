{
 "cells": [
  {
   "cell_type": "markdown",
   "id": "73a74c95",
   "metadata": {},
   "source": [
    "# Lab | Inferential statistics extended"
   ]
  },
  {
   "cell_type": "code",
   "execution_count": 13,
   "id": "58db9fca",
   "metadata": {},
   "outputs": [],
   "source": [
    "import pandas as pd\n",
    "import numpy as np\n",
    "import scipy.stats as st\n",
    "import matplotlib.pyplot as plt\n",
    "import seaborn as sns\n",
    "from scipy.stats import t"
   ]
  },
  {
   "cell_type": "markdown",
   "id": "1b6d85f8",
   "metadata": {},
   "source": [
    "### Ex 1: One tailed t-test"
   ]
  },
  {
   "cell_type": "code",
   "execution_count": 18,
   "id": "c80c10ce",
   "metadata": {},
   "outputs": [
    {
     "name": "stdout",
     "output_type": "stream",
     "text": [
      "(10, 2)\n"
     ]
    },
    {
     "data": {
      "text/html": [
       "<div>\n",
       "<style scoped>\n",
       "    .dataframe tbody tr th:only-of-type {\n",
       "        vertical-align: middle;\n",
       "    }\n",
       "\n",
       "    .dataframe tbody tr th {\n",
       "        vertical-align: top;\n",
       "    }\n",
       "\n",
       "    .dataframe thead th {\n",
       "        text-align: right;\n",
       "    }\n",
       "</style>\n",
       "<table border=\"1\" class=\"dataframe\">\n",
       "  <thead>\n",
       "    <tr style=\"text-align: right;\">\n",
       "      <th></th>\n",
       "      <th>New_machine</th>\n",
       "      <th>Old_machine</th>\n",
       "    </tr>\n",
       "  </thead>\n",
       "  <tbody>\n",
       "    <tr>\n",
       "      <th>0</th>\n",
       "      <td>42.1</td>\n",
       "      <td>42.7</td>\n",
       "    </tr>\n",
       "    <tr>\n",
       "      <th>1</th>\n",
       "      <td>41.0</td>\n",
       "      <td>43.6</td>\n",
       "    </tr>\n",
       "    <tr>\n",
       "      <th>2</th>\n",
       "      <td>41.3</td>\n",
       "      <td>43.8</td>\n",
       "    </tr>\n",
       "    <tr>\n",
       "      <th>3</th>\n",
       "      <td>41.8</td>\n",
       "      <td>43.3</td>\n",
       "    </tr>\n",
       "    <tr>\n",
       "      <th>4</th>\n",
       "      <td>42.4</td>\n",
       "      <td>42.5</td>\n",
       "    </tr>\n",
       "  </tbody>\n",
       "</table>\n",
       "</div>"
      ],
      "text/plain": [
       "   New_machine  Old_machine\n",
       "0         42.1         42.7\n",
       "1         41.0         43.6\n",
       "2         41.3         43.8\n",
       "3         41.8         43.3\n",
       "4         42.4         42.5"
      ]
     },
     "execution_count": 18,
     "metadata": {},
     "output_type": "execute_result"
    }
   ],
   "source": [
    "machineData = pd.read_csv('machine2.txt', sep = ' ')\n",
    "print(machineData.shape)\n",
    "machineData.head()"
   ]
  },
  {
   "cell_type": "markdown",
   "id": "38a6ea74",
   "metadata": {},
   "source": [
    "First I will calculate the mean of the Old machine packing time"
   ]
  },
  {
   "cell_type": "code",
   "execution_count": 21,
   "id": "857e862c",
   "metadata": {},
   "outputs": [
    {
     "data": {
      "text/plain": [
       "43.230000000000004"
      ]
     },
     "execution_count": 21,
     "metadata": {},
     "output_type": "execute_result"
    }
   ],
   "source": [
    "machineData['Old_machine'].mean()"
   ]
  },
  {
   "cell_type": "code",
   "execution_count": 24,
   "id": "15ad47e7",
   "metadata": {},
   "outputs": [
    {
     "name": "stdout",
     "output_type": "stream",
     "text": [
      "p value (single tailed):  0.0003483188038379669\n"
     ]
    }
   ],
   "source": [
    "#H0 means that New machine processing time is >= 43.23\n",
    "#H1 means that New machine processing time is < 43.23 \n",
    "print('p value (single tailed): ',st.ttest_1samp(machineData['New_machine'],43.23)[1]/2)"
   ]
  },
  {
   "cell_type": "markdown",
   "id": "664efafd",
   "metadata": {},
   "source": [
    "p value is < 0.05 so I can reject the null: New machine processing time is < 43.23 "
   ]
  },
  {
   "cell_type": "markdown",
   "id": "2354183a",
   "metadata": {},
   "source": [
    "Maybe, we would need more samples because 10 is a little number to  provide sufficient evidence to show if the new machine is better than the old one"
   ]
  },
  {
   "cell_type": "markdown",
   "id": "56f2d6d7",
   "metadata": {},
   "source": [
    "### Ex 2: Matched Pairs Test"
   ]
  },
  {
   "cell_type": "code",
   "execution_count": 25,
   "id": "fdb65ddd",
   "metadata": {},
   "outputs": [
    {
     "name": "stdout",
     "output_type": "stream",
     "text": [
      "(800, 13)\n"
     ]
    },
    {
     "data": {
      "text/html": [
       "<div>\n",
       "<style scoped>\n",
       "    .dataframe tbody tr th:only-of-type {\n",
       "        vertical-align: middle;\n",
       "    }\n",
       "\n",
       "    .dataframe tbody tr th {\n",
       "        vertical-align: top;\n",
       "    }\n",
       "\n",
       "    .dataframe thead th {\n",
       "        text-align: right;\n",
       "    }\n",
       "</style>\n",
       "<table border=\"1\" class=\"dataframe\">\n",
       "  <thead>\n",
       "    <tr style=\"text-align: right;\">\n",
       "      <th></th>\n",
       "      <th>#</th>\n",
       "      <th>Name</th>\n",
       "      <th>Type 1</th>\n",
       "      <th>Type 2</th>\n",
       "      <th>Total</th>\n",
       "      <th>HP</th>\n",
       "      <th>Attack</th>\n",
       "      <th>Defense</th>\n",
       "      <th>Sp. Atk</th>\n",
       "      <th>Sp. Def</th>\n",
       "      <th>Speed</th>\n",
       "      <th>Generation</th>\n",
       "      <th>Legendary</th>\n",
       "    </tr>\n",
       "  </thead>\n",
       "  <tbody>\n",
       "    <tr>\n",
       "      <th>0</th>\n",
       "      <td>1</td>\n",
       "      <td>Bulbasaur</td>\n",
       "      <td>Grass</td>\n",
       "      <td>Poison</td>\n",
       "      <td>318</td>\n",
       "      <td>45</td>\n",
       "      <td>49</td>\n",
       "      <td>49</td>\n",
       "      <td>65</td>\n",
       "      <td>65</td>\n",
       "      <td>45</td>\n",
       "      <td>1</td>\n",
       "      <td>False</td>\n",
       "    </tr>\n",
       "    <tr>\n",
       "      <th>1</th>\n",
       "      <td>2</td>\n",
       "      <td>Ivysaur</td>\n",
       "      <td>Grass</td>\n",
       "      <td>Poison</td>\n",
       "      <td>405</td>\n",
       "      <td>60</td>\n",
       "      <td>62</td>\n",
       "      <td>63</td>\n",
       "      <td>80</td>\n",
       "      <td>80</td>\n",
       "      <td>60</td>\n",
       "      <td>1</td>\n",
       "      <td>False</td>\n",
       "    </tr>\n",
       "    <tr>\n",
       "      <th>2</th>\n",
       "      <td>3</td>\n",
       "      <td>Venusaur</td>\n",
       "      <td>Grass</td>\n",
       "      <td>Poison</td>\n",
       "      <td>525</td>\n",
       "      <td>80</td>\n",
       "      <td>82</td>\n",
       "      <td>83</td>\n",
       "      <td>100</td>\n",
       "      <td>100</td>\n",
       "      <td>80</td>\n",
       "      <td>1</td>\n",
       "      <td>False</td>\n",
       "    </tr>\n",
       "    <tr>\n",
       "      <th>3</th>\n",
       "      <td>3</td>\n",
       "      <td>VenusaurMega Venusaur</td>\n",
       "      <td>Grass</td>\n",
       "      <td>Poison</td>\n",
       "      <td>625</td>\n",
       "      <td>80</td>\n",
       "      <td>100</td>\n",
       "      <td>123</td>\n",
       "      <td>122</td>\n",
       "      <td>120</td>\n",
       "      <td>80</td>\n",
       "      <td>1</td>\n",
       "      <td>False</td>\n",
       "    </tr>\n",
       "    <tr>\n",
       "      <th>4</th>\n",
       "      <td>4</td>\n",
       "      <td>Charmander</td>\n",
       "      <td>Fire</td>\n",
       "      <td>NaN</td>\n",
       "      <td>309</td>\n",
       "      <td>39</td>\n",
       "      <td>52</td>\n",
       "      <td>43</td>\n",
       "      <td>60</td>\n",
       "      <td>50</td>\n",
       "      <td>65</td>\n",
       "      <td>1</td>\n",
       "      <td>False</td>\n",
       "    </tr>\n",
       "  </tbody>\n",
       "</table>\n",
       "</div>"
      ],
      "text/plain": [
       "   #                   Name Type 1  Type 2  Total  HP  Attack  Defense  \\\n",
       "0  1              Bulbasaur  Grass  Poison    318  45      49       49   \n",
       "1  2                Ivysaur  Grass  Poison    405  60      62       63   \n",
       "2  3               Venusaur  Grass  Poison    525  80      82       83   \n",
       "3  3  VenusaurMega Venusaur  Grass  Poison    625  80     100      123   \n",
       "4  4             Charmander   Fire     NaN    309  39      52       43   \n",
       "\n",
       "   Sp. Atk  Sp. Def  Speed  Generation  Legendary  \n",
       "0       65       65     45           1      False  \n",
       "1       80       80     60           1      False  \n",
       "2      100      100     80           1      False  \n",
       "3      122      120     80           1      False  \n",
       "4       60       50     65           1      False  "
      ]
     },
     "execution_count": 25,
     "metadata": {},
     "output_type": "execute_result"
    }
   ],
   "source": [
    "PokemonData = pd.read_csv('pokemon.csv')\n",
    "print(PokemonData.shape)\n",
    "PokemonData.head()"
   ]
  },
  {
   "cell_type": "code",
   "execution_count": 26,
   "id": "af8473fe",
   "metadata": {},
   "outputs": [
    {
     "data": {
      "text/plain": [
       "Ttest_relResult(statistic=-4.325566393330478, pvalue=1.7140303479358558e-05)"
      ]
     },
     "execution_count": 26,
     "metadata": {},
     "output_type": "execute_result"
    }
   ],
   "source": [
    "#H0 means that Defense = Attack\n",
    "#H1 means that they are different \n",
    "st.ttest_rel(PokemonData['Defense'], PokemonData['Attack'])"
   ]
  },
  {
   "cell_type": "code",
   "execution_count": null,
   "id": "c9799c6c",
   "metadata": {},
   "outputs": [],
   "source": [
    "#negative statistic means \\mu_after-\\mu_before < 0   ---->  \\mu_after < \\mu_before "
   ]
  },
  {
   "cell_type": "markdown",
   "id": "ab7cd8d0",
   "metadata": {},
   "source": [
    "We can reject the null and we can assume that Attack is lower than defense"
   ]
  },
  {
   "cell_type": "markdown",
   "id": "5f3e5550",
   "metadata": {},
   "source": [
    "## ANOVA"
   ]
  },
  {
   "cell_type": "markdown",
   "id": "ce4f6bbc",
   "metadata": {},
   "source": [
    "### Part 1"
   ]
  },
  {
   "cell_type": "markdown",
   "id": "557d869c",
   "metadata": {},
   "source": [
    "- H0 for ANOVA is always that the means of the various groups are the same.\n",
    "- H1 is that they are not the same.\n",
    "- If the F statistic is higher than the critical value (usually 0.05), then the difference among groups is deemed statistically significant.\n",
    "- The degrees of freedom are the number of independent pieces of information.\n",
    "- Total DoF are equal to the sum of the individual degrees of freedom."
   ]
  },
  {
   "cell_type": "markdown",
   "id": "aa51c2b6",
   "metadata": {},
   "source": [
    "### Part 2"
   ]
  },
  {
   "cell_type": "code",
   "execution_count": 55,
   "id": "457b0bed",
   "metadata": {},
   "outputs": [
    {
     "name": "stdout",
     "output_type": "stream",
     "text": [
      "(15, 2)\n"
     ]
    },
    {
     "data": {
      "text/html": [
       "<div>\n",
       "<style scoped>\n",
       "    .dataframe tbody tr th:only-of-type {\n",
       "        vertical-align: middle;\n",
       "    }\n",
       "\n",
       "    .dataframe tbody tr th {\n",
       "        vertical-align: top;\n",
       "    }\n",
       "\n",
       "    .dataframe thead th {\n",
       "        text-align: right;\n",
       "    }\n",
       "</style>\n",
       "<table border=\"1\" class=\"dataframe\">\n",
       "  <thead>\n",
       "    <tr style=\"text-align: right;\">\n",
       "      <th></th>\n",
       "      <th>Power</th>\n",
       "      <th>Etching Rate</th>\n",
       "    </tr>\n",
       "  </thead>\n",
       "  <tbody>\n",
       "    <tr>\n",
       "      <th>0</th>\n",
       "      <td>160 W</td>\n",
       "      <td>5.43</td>\n",
       "    </tr>\n",
       "    <tr>\n",
       "      <th>1</th>\n",
       "      <td>180 W</td>\n",
       "      <td>6.24</td>\n",
       "    </tr>\n",
       "    <tr>\n",
       "      <th>2</th>\n",
       "      <td>200 W</td>\n",
       "      <td>8.79</td>\n",
       "    </tr>\n",
       "    <tr>\n",
       "      <th>3</th>\n",
       "      <td>160 W</td>\n",
       "      <td>5.71</td>\n",
       "    </tr>\n",
       "    <tr>\n",
       "      <th>4</th>\n",
       "      <td>180 W</td>\n",
       "      <td>6.71</td>\n",
       "    </tr>\n",
       "  </tbody>\n",
       "</table>\n",
       "</div>"
      ],
      "text/plain": [
       "  Power   Etching Rate\n",
       "0  160 W          5.43\n",
       "1  180 W          6.24\n",
       "2  200 W          8.79\n",
       "3  160 W          5.71\n",
       "4  180 W          6.71"
      ]
     },
     "execution_count": 55,
     "metadata": {},
     "output_type": "execute_result"
    }
   ],
   "source": [
    "anova_data = pd.read_excel('anova_lab_data.xlsx')\n",
    "print(anova_data.shape)\n",
    "anova_data.head()"
   ]
  },
  {
   "cell_type": "markdown",
   "id": "02d40eb0",
   "metadata": {},
   "source": [
    "I'm going to eliminate the W symbol to convert the column in a numerical one "
   ]
  },
  {
   "cell_type": "code",
   "execution_count": 56,
   "id": "8bd8cb54",
   "metadata": {},
   "outputs": [],
   "source": [
    "#anova_data['Power '] = anova_data['Power '].str.rstrip(' W').astype('int')"
   ]
  },
  {
   "cell_type": "code",
   "execution_count": 57,
   "id": "a6eea1b1",
   "metadata": {},
   "outputs": [
    {
     "data": {
      "text/html": [
       "<div>\n",
       "<style scoped>\n",
       "    .dataframe tbody tr th:only-of-type {\n",
       "        vertical-align: middle;\n",
       "    }\n",
       "\n",
       "    .dataframe tbody tr th {\n",
       "        vertical-align: top;\n",
       "    }\n",
       "\n",
       "    .dataframe thead th {\n",
       "        text-align: right;\n",
       "    }\n",
       "</style>\n",
       "<table border=\"1\" class=\"dataframe\">\n",
       "  <thead>\n",
       "    <tr style=\"text-align: right;\">\n",
       "      <th></th>\n",
       "      <th>Power_160 W</th>\n",
       "      <th>Power_180 W</th>\n",
       "      <th>Power_200 W</th>\n",
       "    </tr>\n",
       "    <tr>\n",
       "      <th>Power_count</th>\n",
       "      <th></th>\n",
       "      <th></th>\n",
       "      <th></th>\n",
       "    </tr>\n",
       "  </thead>\n",
       "  <tbody>\n",
       "    <tr>\n",
       "      <th>0</th>\n",
       "      <td>5.43</td>\n",
       "      <td>6.24</td>\n",
       "      <td>8.79</td>\n",
       "    </tr>\n",
       "    <tr>\n",
       "      <th>1</th>\n",
       "      <td>5.71</td>\n",
       "      <td>6.71</td>\n",
       "      <td>9.20</td>\n",
       "    </tr>\n",
       "    <tr>\n",
       "      <th>2</th>\n",
       "      <td>6.22</td>\n",
       "      <td>5.98</td>\n",
       "      <td>7.90</td>\n",
       "    </tr>\n",
       "    <tr>\n",
       "      <th>3</th>\n",
       "      <td>6.01</td>\n",
       "      <td>5.66</td>\n",
       "      <td>8.15</td>\n",
       "    </tr>\n",
       "    <tr>\n",
       "      <th>4</th>\n",
       "      <td>5.59</td>\n",
       "      <td>6.60</td>\n",
       "      <td>7.55</td>\n",
       "    </tr>\n",
       "  </tbody>\n",
       "</table>\n",
       "</div>"
      ],
      "text/plain": [
       "             Power_160 W  Power_180 W  Power_200 W\n",
       "Power_count                                       \n",
       "0                   5.43         6.24         8.79\n",
       "1                   5.71         6.71         9.20\n",
       "2                   6.22         5.98         7.90\n",
       "3                   6.01         5.66         8.15\n",
       "4                   5.59         6.60         7.55"
      ]
     },
     "execution_count": 57,
     "metadata": {},
     "output_type": "execute_result"
    }
   ],
   "source": [
    "anova_data['Power_count'] = anova_data.groupby('Power ').cumcount() ##is the new index \n",
    "\n",
    "anova_data_pivot = anova_data.pivot(index='Power_count', columns='Power ', values='Etching Rate')\n",
    "anova_data_pivot.columns = ['Power_'+str(x) for x in anova_data_pivot.columns.values]\n",
    "anova_data_pivot.head()"
   ]
  },
  {
   "cell_type": "markdown",
   "id": "67ce4bd4",
   "metadata": {},
   "source": [
    "- H0 for ANOVA is always that the means of the various groups are the same.\n",
    "- H1 is that they are not the same.\n",
    "- If the F statistic is higher than the critical value (usually 0.05), then the difference among groups is deemed statistically significant.\n",
    "- The degrees of freedom are the number of independent pieces of information.\n",
    "- Total DoF are equal to the sum of the individual degrees of freedom."
   ]
  },
  {
   "cell_type": "code",
   "execution_count": 54,
   "id": "dec48e89",
   "metadata": {},
   "outputs": [
    {
     "data": {
      "text/plain": [
       "F_onewayResult(statistic=36.87895470100505, pvalue=7.506584272358903e-06)"
      ]
     },
     "execution_count": 54,
     "metadata": {},
     "output_type": "execute_result"
    }
   ],
   "source": [
    "#H0 for ANOVA is always that the means of the various groups are the same\n",
    "#H1 is that they are not the same\n",
    "st.f_oneway(anova_data_pivot['Power_160 W'],anova_data_pivot['Power_180 W'],anova_data_pivot['Power_200 W'])\n"
   ]
  },
  {
   "cell_type": "markdown",
   "id": "dfd99a27",
   "metadata": {},
   "source": [
    "- p value < 0.05 -> I can reject the null so, the means of the different groups are not the same\n",
    "- statistic is higher than 0.05 so, the difference among groups is deemed statistically significant"
   ]
  },
  {
   "cell_type": "code",
   "execution_count": null,
   "id": "3f91ace2",
   "metadata": {},
   "outputs": [],
   "source": []
  }
 ],
 "metadata": {
  "kernelspec": {
   "display_name": "Python 3 (ipykernel)",
   "language": "python",
   "name": "python3"
  },
  "language_info": {
   "codemirror_mode": {
    "name": "ipython",
    "version": 3
   },
   "file_extension": ".py",
   "mimetype": "text/x-python",
   "name": "python",
   "nbconvert_exporter": "python",
   "pygments_lexer": "ipython3",
   "version": "3.9.7"
  }
 },
 "nbformat": 4,
 "nbformat_minor": 5
}
